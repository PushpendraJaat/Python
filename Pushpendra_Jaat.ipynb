{
  "nbformat": 4,
  "nbformat_minor": 0,
  "metadata": {
    "colab": {
      "name": "Pushpendra_Jaat.ipynb",
      "provenance": [],
      "collapsed_sections": []
    },
    "kernelspec": {
      "name": "python3",
      "display_name": "Python 3"
    }
  },
  "cells": [
    {
      "cell_type": "markdown",
      "metadata": {
        "id": "cWD6HNdHEE-Q"
      },
      "source": [
        "First we are importing two popular library, pandas and numpy."
      ]
    },
    {
      "cell_type": "code",
      "metadata": {
        "id": "F8_mvHc4tTrm"
      },
      "source": [
        "import pandas as pd;\r\n",
        "import numpy as np;"
      ],
      "execution_count": 90,
      "outputs": []
    },
    {
      "cell_type": "markdown",
      "metadata": {
        "id": "aaeYkG_Gtxqd"
      },
      "source": [
        "Importing dataset from sklearn."
      ]
    },
    {
      "cell_type": "code",
      "metadata": {
        "id": "N0JEvs5wt6Pg"
      },
      "source": [
        "from sklearn.datasets import load_iris\r\n",
        "iris_dataset = load_iris()\r\n",
        "\r\n"
      ],
      "execution_count": 91,
      "outputs": []
    },
    {
      "cell_type": "markdown",
      "metadata": {
        "id": "d3lcxlUxFtPf"
      },
      "source": [
        "Printing the keys of iris_dataset"
      ]
    },
    {
      "cell_type": "code",
      "metadata": {
        "id": "HU0KCEHZvBII",
        "colab": {
          "base_uri": "https://localhost:8080/"
        },
        "outputId": "a383a7da-bfa2-4577-f971-90a42a13dcd5"
      },
      "source": [
        "print(\"Keys Of iris_dataset: \\n{}\".format(iris_dataset.keys()))"
      ],
      "execution_count": 92,
      "outputs": [
        {
          "output_type": "stream",
          "text": [
            "Keys Of iris_dataset: \n",
            "dict_keys(['data', 'target', 'target_names', 'DESCR', 'feature_names', 'filename'])\n"
          ],
          "name": "stdout"
        }
      ]
    },
    {
      "cell_type": "markdown",
      "metadata": {
        "id": "3AWDrCGQGQyk"
      },
      "source": [
        "Printing the description of the dataset"
      ]
    },
    {
      "cell_type": "code",
      "metadata": {
        "id": "UPe0C6rJvnHK",
        "colab": {
          "base_uri": "https://localhost:8080/"
        },
        "outputId": "ae6b4f8b-7ef9-4846-ecb8-bed9a6baa731"
      },
      "source": [
        "print(iris_dataset['DESCR'][:193] + \"\\n...\")"
      ],
      "execution_count": 93,
      "outputs": [
        {
          "output_type": "stream",
          "text": [
            ".. _iris_dataset:\n",
            "\n",
            "Iris plants dataset\n",
            "--------------------\n",
            "\n",
            "**Data Set Characteristics:**\n",
            "\n",
            "    :Number of Instances: 150 (50 in each of three classes)\n",
            "    :Number of Attributes: 4 numeric, pre\n",
            "...\n"
          ],
          "name": "stdout"
        }
      ]
    },
    {
      "cell_type": "code",
      "metadata": {
        "id": "6x53ep0twDvl",
        "colab": {
          "base_uri": "https://localhost:8080/"
        },
        "outputId": "09af76c6-7f38-4e44-e08b-c1a89e079f94"
      },
      "source": [
        "val = iris_dataset['DESCR']\r\n",
        "start_val = val[:200]\r\n",
        "print( start_val  + \"\\n\")"
      ],
      "execution_count": 94,
      "outputs": [
        {
          "output_type": "stream",
          "text": [
            ".. _iris_dataset:\n",
            "\n",
            "Iris plants dataset\n",
            "--------------------\n",
            "\n",
            "**Data Set Characteristics:**\n",
            "\n",
            "    :Number of Instances: 150 (50 in each of three classes)\n",
            "    :Number of Attributes: 4 numeric, predictive\n",
            "\n"
          ],
          "name": "stdout"
        }
      ]
    },
    {
      "cell_type": "code",
      "metadata": {
        "colab": {
          "base_uri": "https://localhost:8080/"
        },
        "id": "wQF52S9ZGl7Z",
        "outputId": "ee79b79e-1d56-495b-a8c1-9d66ff570f2a"
      },
      "source": [
        "print(\"Features Name: {}\" .format(iris_dataset['target_names']))"
      ],
      "execution_count": 95,
      "outputs": [
        {
          "output_type": "stream",
          "text": [
            "Features Name: ['setosa' 'versicolor' 'virginica']\n"
          ],
          "name": "stdout"
        }
      ]
    },
    {
      "cell_type": "code",
      "metadata": {
        "colab": {
          "base_uri": "https://localhost:8080/"
        },
        "id": "mO6Rpn4NG9kw",
        "outputId": "483674ff-72b6-49c1-dd3e-b88af7be51eb"
      },
      "source": [
        "print(\"Type of data: {}\" .format(type(iris_dataset['data'])))"
      ],
      "execution_count": 96,
      "outputs": [
        {
          "output_type": "stream",
          "text": [
            "Type of data: <class 'numpy.ndarray'>\n"
          ],
          "name": "stdout"
        }
      ]
    },
    {
      "cell_type": "code",
      "metadata": {
        "colab": {
          "base_uri": "https://localhost:8080/"
        },
        "id": "ARd9zcs-HL17",
        "outputId": "a5e5fe43-33bc-4c2a-c39a-00e5f7d1bae2"
      },
      "source": [
        "print(\"Shape of the data: {}\" .format(iris_dataset['data'].shape))"
      ],
      "execution_count": 97,
      "outputs": [
        {
          "output_type": "stream",
          "text": [
            "Shape of the data: (150, 4)\n"
          ],
          "name": "stdout"
        }
      ]
    },
    {
      "cell_type": "code",
      "metadata": {
        "colab": {
          "base_uri": "https://localhost:8080/"
        },
        "id": "7tdBRG0ayJkq",
        "outputId": "48c97c9f-8d17-48a9-f799-211c8cdee75c"
      },
      "source": [
        "print(\"first five rows of the data:\\n{}\" .format(iris_dataset['data'][:5]))"
      ],
      "execution_count": 98,
      "outputs": [
        {
          "output_type": "stream",
          "text": [
            "first five rows of the data:\n",
            "[[5.1 3.5 1.4 0.2]\n",
            " [4.9 3.  1.4 0.2]\n",
            " [4.7 3.2 1.3 0.2]\n",
            " [4.6 3.1 1.5 0.2]\n",
            " [5.  3.6 1.4 0.2]]\n"
          ],
          "name": "stdout"
        }
      ]
    },
    {
      "cell_type": "code",
      "metadata": {
        "colab": {
          "base_uri": "https://localhost:8080/"
        },
        "id": "xecIjGy8w5Sk",
        "outputId": "056df893-9c71-4aa5-ab0b-f822df2e28e3"
      },
      "source": [
        "print(\"Target names: {}\" .format(iris_dataset['target']))"
      ],
      "execution_count": 99,
      "outputs": [
        {
          "output_type": "stream",
          "text": [
            "Target names: [0 0 0 0 0 0 0 0 0 0 0 0 0 0 0 0 0 0 0 0 0 0 0 0 0 0 0 0 0 0 0 0 0 0 0 0 0\n",
            " 0 0 0 0 0 0 0 0 0 0 0 0 0 1 1 1 1 1 1 1 1 1 1 1 1 1 1 1 1 1 1 1 1 1 1 1 1\n",
            " 1 1 1 1 1 1 1 1 1 1 1 1 1 1 1 1 1 1 1 1 1 1 1 1 1 1 2 2 2 2 2 2 2 2 2 2 2\n",
            " 2 2 2 2 2 2 2 2 2 2 2 2 2 2 2 2 2 2 2 2 2 2 2 2 2 2 2 2 2 2 2 2 2 2 2 2 2\n",
            " 2 2]\n"
          ],
          "name": "stdout"
        }
      ]
    },
    {
      "cell_type": "markdown",
      "metadata": {
        "id": "e-VlkRHW8MFD"
      },
      "source": [
        "File location"
      ]
    },
    {
      "cell_type": "code",
      "metadata": {
        "id": "tdaDEtXt0sF6",
        "colab": {
          "base_uri": "https://localhost:8080/"
        },
        "outputId": "78919d57-75d3-4c77-97a0-457582a2b6d5"
      },
      "source": [
        "print(\"Target: \\n{}\" . format(iris_dataset['filename']))"
      ],
      "execution_count": 100,
      "outputs": [
        {
          "output_type": "stream",
          "text": [
            "Target: \n",
            "/usr/local/lib/python3.6/dist-packages/sklearn/datasets/data/iris.csv\n"
          ],
          "name": "stdout"
        }
      ]
    },
    {
      "cell_type": "markdown",
      "metadata": {
        "id": "FNok4Gy-68_q"
      },
      "source": [
        "Printing the feature names from iris_dataset"
      ]
    },
    {
      "cell_type": "code",
      "metadata": {
        "colab": {
          "base_uri": "https://localhost:8080/"
        },
        "id": "zRHw6PCEJC_N",
        "outputId": "4490ed3b-60b9-420a-f701-af21e3d8d55c"
      },
      "source": [
        "print(\"Feature name: \\n{}\" .format(iris_dataset['feature_names']))"
      ],
      "execution_count": 101,
      "outputs": [
        {
          "output_type": "stream",
          "text": [
            "Feature name: \n",
            "['sepal length (cm)', 'sepal width (cm)', 'petal length (cm)', 'petal width (cm)']\n"
          ],
          "name": "stdout"
        }
      ]
    },
    {
      "cell_type": "code",
      "metadata": {
        "id": "fd6zint68oe8"
      },
      "source": [
        "import sklearn\r\n",
        "from sklearn.model_selection import train_test_split\r\n",
        "X_train, X_test, y_train, y_test = train_test_split(\r\n",
        "    iris_dataset['data'], iris_dataset['target'], random_state=0\r\n",
        ")"
      ],
      "execution_count": 102,
      "outputs": []
    },
    {
      "cell_type": "code",
      "metadata": {
        "colab": {
          "base_uri": "https://localhost:8080/"
        },
        "id": "plMxmg-FCNsc",
        "outputId": "ee6e20a8-daf4-4366-ecf0-5c38663e0ca1"
      },
      "source": [
        "print(\"X_train shape: {}\" .format(X_train.shape))\r\n",
        "print(\"y_train shape: {}\" .format(y_train.shape))\r\n",
        "print(\"X_test shape: {}\" .format(X_test.shape))\r\n",
        "print(\"y_test shape: {}\" .format(y_test.shape))"
      ],
      "execution_count": 103,
      "outputs": [
        {
          "output_type": "stream",
          "text": [
            "X_train shape: (112, 4)\n",
            "y_train shape: (112,)\n",
            "X_test shape: (38, 4)\n",
            "y_test shape: (38,)\n"
          ],
          "name": "stdout"
        }
      ]
    },
    {
      "cell_type": "markdown",
      "metadata": {
        "id": "bGgyRx5dKCwI"
      },
      "source": [
        "This is the model"
      ]
    },
    {
      "cell_type": "code",
      "metadata": {
        "id": "AzxxWN6LJy25"
      },
      "source": [
        "from sklearn.neighbors import KNeighborsClassifier\r\n",
        "knn = KNeighborsClassifier(n_neighbors=5)"
      ],
      "execution_count": 104,
      "outputs": []
    },
    {
      "cell_type": "code",
      "metadata": {
        "colab": {
          "base_uri": "https://localhost:8080/"
        },
        "id": "6btNbuyLKa9v",
        "outputId": "b752e294-547c-44f0-e3d6-68d968798944"
      },
      "source": [
        "knn.fit(X_train, y_train)\r\n",
        "\r\n",
        "KNeighborsClassifier(algorithm='auto', leaf_size=30, metric='minkowski', metric_params=None, n_jobs=None, n_neighbors=5, p=2, weights='uniform')"
      ],
      "execution_count": 105,
      "outputs": [
        {
          "output_type": "execute_result",
          "data": {
            "text/plain": [
              "KNeighborsClassifier(algorithm='auto', leaf_size=30, metric='minkowski',\n",
              "                     metric_params=None, n_jobs=None, n_neighbors=5, p=2,\n",
              "                     weights='uniform')"
            ]
          },
          "metadata": {
            "tags": []
          },
          "execution_count": 105
        }
      ]
    },
    {
      "cell_type": "markdown",
      "metadata": {
        "id": "hGGS5s8-L0X-"
      },
      "source": [
        "Making Prediction"
      ]
    },
    {
      "cell_type": "code",
      "metadata": {
        "colab": {
          "base_uri": "https://localhost:8080/"
        },
        "id": "Y9bvGrkpLBIb",
        "outputId": "73770f8f-30ba-40b7-f614-98370896046b"
      },
      "source": [
        "X_new = np.array([[5, 2.9, 1, 0.2]])\r\n",
        "print(\"X_new.shape: {}\" .format(X_new.shape))\r\n",
        "X_new.shape: (1, 4)"
      ],
      "execution_count": 106,
      "outputs": [
        {
          "output_type": "stream",
          "text": [
            "X_new.shape: (1, 4)\n"
          ],
          "name": "stdout"
        }
      ]
    },
    {
      "cell_type": "code",
      "metadata": {
        "colab": {
          "base_uri": "https://localhost:8080/"
        },
        "id": "SkGdNuvEMpLG",
        "outputId": "d7e886e4-7096-430d-a6fe-912cdc9bc6fe"
      },
      "source": [
        "prediction = knn.predict(X_new)\r\n",
        "\r\n",
        "print(\"Prediction: {}\" .format(prediction))\r\n",
        "print(\"Predicted target name:{}\" .format(iris_dataset['target_names'][prediction]))"
      ],
      "execution_count": 107,
      "outputs": [
        {
          "output_type": "stream",
          "text": [
            "Prediction: [0]\n",
            "Predicted target name:['setosa']\n"
          ],
          "name": "stdout"
        }
      ]
    },
    {
      "cell_type": "markdown",
      "metadata": {
        "id": "mlQk75OrOXl6"
      },
      "source": [
        "evaluate our model"
      ]
    },
    {
      "cell_type": "code",
      "metadata": {
        "colab": {
          "base_uri": "https://localhost:8080/"
        },
        "id": "sWqJS3kwOefW",
        "outputId": "4184f290-8e14-4622-ba15-ff0bd5457170"
      },
      "source": [
        "y_pred = knn.predict(X_test)\r\n",
        "print(\"Test set predictions:\\n {}\" .format(y_pred))"
      ],
      "execution_count": 108,
      "outputs": [
        {
          "output_type": "stream",
          "text": [
            "Test set predictions:\n",
            " [2 1 0 2 0 2 0 1 1 1 2 1 1 1 1 0 1 1 0 0 2 1 0 0 2 0 0 1 1 0 2 1 0 2 2 1 0\n",
            " 2]\n"
          ],
          "name": "stdout"
        }
      ]
    },
    {
      "cell_type": "code",
      "metadata": {
        "colab": {
          "base_uri": "https://localhost:8080/"
        },
        "id": "ULi1m5sFO9LT",
        "outputId": "dbae2667-f2dc-4176-9feb-953742daa68e"
      },
      "source": [
        "print(\"Test score prediction:\\n {}\" .format(np.mean(y_test)))"
      ],
      "execution_count": 109,
      "outputs": [
        {
          "output_type": "stream",
          "text": [
            "Test score prediction:\n",
            " 0.8947368421052632\n"
          ],
          "name": "stdout"
        }
      ]
    },
    {
      "cell_type": "code",
      "metadata": {
        "colab": {
          "base_uri": "https://localhost:8080/"
        },
        "id": "6hkQyEBNPzxI",
        "outputId": "66faef7b-4f0b-4691-f7b8-6d584cbca73e"
      },
      "source": [
        "print(\"Test set score: {}\" .format(np.mean(y_pred == y_test)))"
      ],
      "execution_count": 110,
      "outputs": [
        {
          "output_type": "stream",
          "text": [
            "Test set score: 0.9736842105263158\n"
          ],
          "name": "stdout"
        }
      ]
    }
  ]
}